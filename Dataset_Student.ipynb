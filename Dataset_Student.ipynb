{
  "nbformat": 4,
  "nbformat_minor": 0,
  "metadata": {
    "colab": {
      "name": "Dataset_Student.ipynb",
      "provenance": [],
      "collapsed_sections": []
    },
    "kernelspec": {
      "name": "python3",
      "display_name": "Python 3"
    },
    "language_info": {
      "name": "python"
    }
  },
  "cells": [
    {
      "cell_type": "code",
      "metadata": {
        "colab": {
          "base_uri": "https://localhost:8080/"
        },
        "id": "XbTstsJodPvL",
        "outputId": "7b264227-513a-418b-d1dc-fc2027f19685"
      },
      "source": [
        "from sklearn.model_selection import train_test_split, GridSearchCV,cross_val_score\n",
        "import pandas as pd\n",
        "import numpy as np\n",
        "import random\n",
        "from sklearn.preprocessing import StandardScaler,LabelEncoder\n",
        "from sklearn.model_selection import train_test_split, GridSearchCV,KFold\n",
        "from sklearn.svm import SVR,SVC\n",
        "from sklearn.metrics import mean_squared_error,mean_absolute_error,r2_score, classification_report,confusion_matrix,roc_curve,auc,mean_squared_error\n",
        "from sklearn.ensemble import RandomForestClassifier,RandomForestRegressor\n",
        "from sklearn.neural_network import MLPClassifier,MLPRegressor\n",
        "from sklearn.tree import DecisionTreeClassifier\n",
        "from sklearn.neighbors import KNeighborsClassifier\n",
        "from sklearn.naive_bayes import GaussianNB\n",
        "from sklearn.linear_model import LinearRegression, LogisticRegression\n",
        "import matplotlib.pyplot as plt\n",
        "from matplotlib.pyplot import figure\n",
        "import tensorflow as tf\n",
        "from google.colab import drive\n",
        "drive.mount(\"/content/drive\")\n",
        "\n",
        "np.random.seed(0)\n",
        "\n",
        "import warnings\n",
        "warnings.filterwarnings(\"ignore\")\n",
        "\n"
      ],
      "execution_count": 4,
      "outputs": [
        {
          "output_type": "stream",
          "text": [
            "Drive already mounted at /content/drive; to attempt to forcibly remount, call drive.mount(\"/content/drive\", force_remount=True).\n"
          ],
          "name": "stdout"
        }
      ]
    },
    {
      "cell_type": "code",
      "metadata": {
        "id": "c1rl-onrdf70"
      },
      "source": [
        ""
      ],
      "execution_count": null,
      "outputs": []
    },
    {
      "cell_type": "code",
      "metadata": {
        "id": "jAW1dZtwj0ai"
      },
      "source": [
        ""
      ],
      "execution_count": null,
      "outputs": []
    },
    {
      "cell_type": "code",
      "metadata": {
        "id": "Hkckn3Q2j0eA"
      },
      "source": [
        ""
      ],
      "execution_count": null,
      "outputs": []
    },
    {
      "cell_type": "code",
      "metadata": {
        "id": "cx7PXrbodgEf"
      },
      "source": [
        "Data=pd.read_excel('/content/drive/My Drive/Freelance/Dataset_Student/Dataset_student.xlsx')\n",
        "\n",
        "for col in Data.columns.to_list():\n",
        "    if Data[col].dtype==object:\n",
        "       Data[col]=LabelEncoder().fit_transform(Data[col]).astype(float)\n",
        "   \n"
      ],
      "execution_count": 5,
      "outputs": []
    },
    {
      "cell_type": "code",
      "metadata": {
        "id": "PfQGkQtIjnog"
      },
      "source": [
        ""
      ],
      "execution_count": null,
      "outputs": []
    },
    {
      "cell_type": "code",
      "metadata": {
        "id": "fvJ10zvyjn7j"
      },
      "source": [
        ""
      ],
      "execution_count": null,
      "outputs": []
    },
    {
      "cell_type": "code",
      "metadata": {
        "colab": {
          "base_uri": "https://localhost:8080/"
        },
        "id": "584pPLQCdgHo",
        "outputId": "f61715bd-6b9a-4761-da4b-eeee9256a765"
      },
      "source": [
        "#Binary_Classification\n",
        "#َA configuration\n",
        "\n",
        "X=Data.drop(columns=['G3']).values\n",
        "Y=Data['G3'].values\n",
        "\n",
        "Label=[]\n",
        "for i in range(len(Y)):\n",
        "    if Y[i]>=10:\n",
        "       Label.append('Pass')\n",
        "    else:\n",
        "       Label.append('Fail')   \n",
        "    \n",
        "Label=LabelEncoder().fit_transform(Label).astype(int)\n",
        "\n",
        "param_grid = {'gamma':[2 ** float(-9),2 ** float(-7),2 ** float(-5),2 ** float(-3),2 ** float(-1)]}\n",
        "\n",
        "SVM = SVC(class_weight='balanced',probability=True,kernel='rbf')\n",
        "grid = GridSearchCV(SVM ,param_grid,cv=5)\n",
        "\n",
        "grid.fit(X, Label)\n",
        "\n",
        "\n",
        "SVM=grid.best_estimator_\n",
        "\n",
        "\n",
        "param_grid = {'hidden_layer_sizes':[ 2, 4, 6, 8]}\n",
        "\n",
        "NN = MLPClassifier(solver='lbfgs', max_iter=100)\n",
        "grid = GridSearchCV(NN ,param_grid,cv=5)\n",
        "\n",
        "grid.fit(X, Label)\n",
        "\n",
        "NN=grid.best_estimator_\n",
        "\n",
        "\n",
        "clfs={'NV':GaussianNB(),\n",
        "      'NN': NN,\n",
        "      'SVM':SVM,\n",
        "      'Decision Tree':DecisionTreeClassifier(class_weight='balanced'),\n",
        "      'Random Forest':RandomForestClassifier(class_weight='balanced',n_estimators=500)}\n",
        "\n",
        "classifiers=list(clfs.keys())\n",
        "for clf in classifiers:\n",
        "    scores = cross_val_score(clfs[clf], X, Label, cv=10)\n",
        "    print(f\" {clf}: %0.2f PCC with a standard deviation of %0.2f\" % (scores.mean(), scores.std()))\n",
        "\n",
        "\n",
        "\n"
      ],
      "execution_count": 7,
      "outputs": [
        {
          "output_type": "stream",
          "text": [
            " NV: 0.86 PCC with a standard deviation of 0.07\n",
            " NN: 0.91 PCC with a standard deviation of 0.05\n",
            " SVM: 0.90 PCC with a standard deviation of 0.05\n",
            " Decision Tree: 0.91 PCC with a standard deviation of 0.03\n",
            " Random Forest: 0.92 PCC with a standard deviation of 0.02\n"
          ],
          "name": "stdout"
        }
      ]
    },
    {
      "cell_type": "code",
      "metadata": {
        "id": "YVJLM4saqEkV"
      },
      "source": [
        ""
      ],
      "execution_count": null,
      "outputs": []
    },
    {
      "cell_type": "code",
      "metadata": {
        "id": "Qfm2Sh1FoO5J"
      },
      "source": [
        ""
      ],
      "execution_count": null,
      "outputs": []
    },
    {
      "cell_type": "code",
      "metadata": {
        "colab": {
          "base_uri": "https://localhost:8080/"
        },
        "id": "jXKFYbEhA18f",
        "outputId": "cf471be1-1f30-4217-b988-8ffd903613a4"
      },
      "source": [
        "#Binary_Classification\n",
        "#َB configuration\n",
        "\n",
        "X=Data.drop(columns=['G2','G3']).values\n",
        "Y=Data['G3'].values\n",
        "\n",
        "Label=[]\n",
        "for i in range(len(Y)):\n",
        "    if Y[i]>=10:\n",
        "       Label.append('Pass')\n",
        "    else:\n",
        "       Label.append('Fail')   \n",
        "    \n",
        "Label=LabelEncoder().fit_transform(Label).astype(int)\n",
        "\n",
        "param_grid = {'gamma':[2 ** float(-9),2 ** float(-7),2 ** float(-5),2 ** float(-3),2 ** float(-1)]}\n",
        "\n",
        "SVM = SVC(class_weight='balanced',probability=True,kernel='rbf')\n",
        "grid = GridSearchCV(SVM ,param_grid,cv=5)\n",
        "\n",
        "grid.fit(X, Label)\n",
        "\n",
        "\n",
        "SVM=grid.best_estimator_\n",
        "\n",
        "\n",
        "param_grid = {'hidden_layer_sizes':[ 2, 4, 6, 8]}\n",
        "\n",
        "NN = MLPClassifier(solver='lbfgs', max_iter=100)\n",
        "grid = GridSearchCV(NN ,param_grid,cv=5)\n",
        "\n",
        "grid.fit(X, Label)\n",
        "\n",
        "NN=grid.best_estimator_\n",
        "\n",
        "\n",
        "clfs={'NV':GaussianNB(),\n",
        "      'NN': NN,\n",
        "      'SVM':SVM,\n",
        "      'Decision Tree':DecisionTreeClassifier(class_weight='balanced'),\n",
        "      'Random Forest':RandomForestClassifier(class_weight='balanced',n_estimators=500)}\n",
        "\n",
        "classifiers=list(clfs.keys())\n",
        "for clf in classifiers:\n",
        "    scores = cross_val_score(clfs[clf], X, Label, cv=10)\n",
        "    print(f\" {clf}: %0.2f PCC with a standard deviation of %0.2f\" % (scores.mean(), scores.std()))\n",
        "\n"
      ],
      "execution_count": 8,
      "outputs": [
        {
          "output_type": "stream",
          "text": [
            " NV: 0.84 PCC with a standard deviation of 0.07\n",
            " NN: 0.89 PCC with a standard deviation of 0.04\n",
            " SVM: 0.87 PCC with a standard deviation of 0.07\n",
            " Decision Tree: 0.86 PCC with a standard deviation of 0.04\n",
            " Random Forest: 0.87 PCC with a standard deviation of 0.03\n"
          ],
          "name": "stdout"
        }
      ]
    },
    {
      "cell_type": "code",
      "metadata": {
        "id": "6Y_3HI5xA2A6"
      },
      "source": [
        ""
      ],
      "execution_count": null,
      "outputs": []
    },
    {
      "cell_type": "code",
      "metadata": {
        "colab": {
          "base_uri": "https://localhost:8080/"
        },
        "id": "Zs8uFpQ2A4ri",
        "outputId": "560983ca-fc55-4c36-dfed-cbe67fe5bf89"
      },
      "source": [
        "#Binary_Classification\n",
        "#َC configuration\n",
        "\n",
        "X=Data.drop(columns=['G1','G2','G3']).values\n",
        "Y=Data['G3'].values\n",
        "\n",
        "Label=[]\n",
        "for i in range(len(Y)):\n",
        "    if Y[i]>=10:\n",
        "       Label.append('Pass')\n",
        "    else:\n",
        "       Label.append('Fail')   \n",
        "    \n",
        "Label=LabelEncoder().fit_transform(Label).astype(int)\n",
        "\n",
        "param_grid = {'gamma':[2 ** float(-9),2 ** float(-7),2 ** float(-5),2 ** float(-3),2 ** float(-1)]}\n",
        "\n",
        "SVM = SVC(class_weight='balanced',probability=True,kernel='rbf')\n",
        "grid = GridSearchCV(SVM ,param_grid,cv=5)\n",
        "\n",
        "grid.fit(X, Label)\n",
        "\n",
        "\n",
        "SVM=grid.best_estimator_\n",
        "\n",
        "\n",
        "param_grid = {'hidden_layer_sizes':[ 2, 4, 6, 8]}\n",
        "\n",
        "NN = MLPClassifier(solver='lbfgs', max_iter=100)\n",
        "grid = GridSearchCV(NN ,param_grid,cv=5)\n",
        "\n",
        "grid.fit(X, Label)\n",
        "\n",
        "NN=grid.best_estimator_\n",
        "\n",
        "\n",
        "clfs={'NV':GaussianNB(),\n",
        "      'NN': NN,\n",
        "      'SVM':SVM,\n",
        "      'Decision Tree':DecisionTreeClassifier(class_weight='balanced'),\n",
        "      'Random Forest':RandomForestClassifier(class_weight='balanced',n_estimators=500)}\n",
        "\n",
        "classifiers=list(clfs.keys())\n",
        "for clf in classifiers:\n",
        "    scores = cross_val_score(clfs[clf], X, Label, cv=10)\n",
        "    print(f\" {clf}: %0.2f PCC with a standard deviation of %0.2f\" % (scores.mean(), scores.std()))\n",
        "\n"
      ],
      "execution_count": 9,
      "outputs": [
        {
          "output_type": "stream",
          "text": [
            " NV: 0.81 PCC with a standard deviation of 0.07\n",
            " NN: 0.82 PCC with a standard deviation of 0.06\n",
            " SVM: 0.85 PCC with a standard deviation of 0.00\n",
            " Decision Tree: 0.78 PCC with a standard deviation of 0.07\n",
            " Random Forest: 0.84 PCC with a standard deviation of 0.02\n"
          ],
          "name": "stdout"
        }
      ]
    },
    {
      "cell_type": "code",
      "metadata": {
        "id": "O2stHj4uoO-I"
      },
      "source": [
        ""
      ],
      "execution_count": null,
      "outputs": []
    },
    {
      "cell_type": "code",
      "metadata": {
        "id": "NOBBKyYQA6vz"
      },
      "source": [
        ""
      ],
      "execution_count": null,
      "outputs": []
    },
    {
      "cell_type": "code",
      "metadata": {
        "colab": {
          "base_uri": "https://localhost:8080/"
        },
        "id": "2patZVbqoPCB",
        "outputId": "24fc2a0f-94fa-43ab-cb0c-4e53bd9dd9aa"
      },
      "source": [
        "#5-Level_Classification\n",
        "#َA configuration\n",
        "\n",
        "X=Data.drop(columns=['G3']).values\n",
        "Y=Data['G3'].values\n",
        "\n",
        "Label=[]\n",
        "for i in range(len(Y)):\n",
        "    if 20>=Y[i]>=16:\n",
        "       Label.append('A')\n",
        "    elif 16>Y[i]>=14:\n",
        "       Label.append('B')\n",
        "    elif 14>Y[i]>=12:\n",
        "       Label.append('C')\n",
        "    elif 12>Y[i]>=10:\n",
        "       Label.append('D')\n",
        "    elif 10>Y[i]>=0:\n",
        "       Label.append('F')        \n",
        "    \n",
        "Label=LabelEncoder().fit_transform(Label).astype(int)\n",
        "\n",
        "param_grid = {'gamma':[2 ** float(-9),2 ** float(-7),2 ** float(-5),2 ** float(-3),2 ** float(-1)]}\n",
        "\n",
        "SVM = SVC(class_weight='balanced',probability=True,kernel='rbf')\n",
        "grid = GridSearchCV(SVM ,param_grid,cv=5)\n",
        "\n",
        "grid.fit(X, Label)\n",
        "\n",
        "\n",
        "SVM=grid.best_estimator_\n",
        "\n",
        "\n",
        "param_grid = {'hidden_layer_sizes':[ 2, 4, 6, 8]}\n",
        "\n",
        "NN = MLPClassifier(solver='lbfgs', max_iter=100)\n",
        "grid = GridSearchCV(NN ,param_grid,cv=5)\n",
        "\n",
        "grid.fit(X, Label)\n",
        "\n",
        "NN=grid.best_estimator_\n",
        "\n",
        "\n",
        "clfs={'NV':GaussianNB(),\n",
        "      'NN': NN,\n",
        "      'SVM':SVM,\n",
        "      'Decision Tree':DecisionTreeClassifier(class_weight='balanced'),\n",
        "      'Random Forest':RandomForestClassifier(class_weight='balanced',n_estimators=500)}\n",
        "\n",
        "classifiers=list(clfs.keys())\n",
        "for clf in classifiers:\n",
        "    scores = cross_val_score(clfs[clf], X, Label, cv=10)\n",
        "    print(f\" {clf}: %0.2f PCC with a standard deviation of %0.2f\" % (scores.mean(), scores.std()))\n"
      ],
      "execution_count": 10,
      "outputs": [
        {
          "output_type": "stream",
          "text": [
            " NV: 0.50 PCC with a standard deviation of 0.04\n",
            " NN: 0.49 PCC with a standard deviation of 0.13\n",
            " SVM: 0.68 PCC with a standard deviation of 0.03\n",
            " Decision Tree: 0.65 PCC with a standard deviation of 0.06\n",
            " Random Forest: 0.70 PCC with a standard deviation of 0.06\n"
          ],
          "name": "stdout"
        }
      ]
    },
    {
      "cell_type": "code",
      "metadata": {
        "id": "DEyrdu1gB1NJ"
      },
      "source": [
        ""
      ],
      "execution_count": null,
      "outputs": []
    },
    {
      "cell_type": "code",
      "metadata": {
        "id": "Cil_KZ7bB1XP"
      },
      "source": [
        ""
      ],
      "execution_count": null,
      "outputs": []
    },
    {
      "cell_type": "code",
      "metadata": {
        "colab": {
          "base_uri": "https://localhost:8080/"
        },
        "id": "iG-XBkCtB1bI",
        "outputId": "01f27d8b-be80-442c-903e-b04f5cdcefea"
      },
      "source": [
        "#5-Level_Classification\n",
        "#َB configuration\n",
        "\n",
        "X=Data.drop(columns=['G2','G3']).values\n",
        "Y=Data['G3'].values\n",
        "\n",
        "Label=[]\n",
        "for i in range(len(Y)):\n",
        "    if 20>=Y[i]>=16:\n",
        "       Label.append('A')\n",
        "    elif 16>Y[i]>=14:\n",
        "       Label.append('B')\n",
        "    elif 14>Y[i]>=12:\n",
        "       Label.append('C')\n",
        "    elif 12>Y[i]>=10:\n",
        "       Label.append('D')\n",
        "    elif 10>Y[i]>=0:\n",
        "       Label.append('F')        \n",
        "    \n",
        "Label=LabelEncoder().fit_transform(Label).astype(int)\n",
        "\n",
        "param_grid = {'gamma':[2 ** float(-9),2 ** float(-7),2 ** float(-5),2 ** float(-3),2 ** float(-1)]}\n",
        "\n",
        "SVM = SVC(class_weight='balanced',probability=True,kernel='rbf')\n",
        "grid = GridSearchCV(SVM ,param_grid,cv=5)\n",
        "\n",
        "grid.fit(X, Label)\n",
        "\n",
        "\n",
        "SVM=grid.best_estimator_\n",
        "\n",
        "\n",
        "param_grid = {'hidden_layer_sizes':[ 2, 4, 6, 8]}\n",
        "\n",
        "NN = MLPClassifier(solver='lbfgs', max_iter=100)\n",
        "grid = GridSearchCV(NN ,param_grid,cv=5)\n",
        "\n",
        "grid.fit(X, Label)\n",
        "\n",
        "NN=grid.best_estimator_\n",
        "\n",
        "\n",
        "clfs={'NV':GaussianNB(),\n",
        "      'NN': NN,\n",
        "      'SVM':SVM,\n",
        "      'Decision Tree':DecisionTreeClassifier(class_weight='balanced'),\n",
        "      'Random Forest':RandomForestClassifier(class_weight='balanced',n_estimators=500)}\n",
        "\n",
        "classifiers=list(clfs.keys())\n",
        "for clf in classifiers:\n",
        "    scores = cross_val_score(clfs[clf], X, Label, cv=10)\n",
        "    print(f\" {clf}: %0.2f PCC with a standard deviation of %0.2f\" % (scores.mean(), scores.std()))\n",
        "\n",
        "\n",
        "\n"
      ],
      "execution_count": 11,
      "outputs": [
        {
          "output_type": "stream",
          "text": [
            " NV: 0.34 PCC with a standard deviation of 0.05\n",
            " NN: 0.42 PCC with a standard deviation of 0.10\n",
            " SVM: 0.56 PCC with a standard deviation of 0.03\n",
            " Decision Tree: 0.45 PCC with a standard deviation of 0.03\n",
            " Random Forest: 0.53 PCC with a standard deviation of 0.04\n"
          ],
          "name": "stdout"
        }
      ]
    },
    {
      "cell_type": "code",
      "metadata": {
        "id": "nHTGVT0nB1eu"
      },
      "source": [
        ""
      ],
      "execution_count": null,
      "outputs": []
    },
    {
      "cell_type": "code",
      "metadata": {
        "id": "5wq-IItCB-Qi"
      },
      "source": [
        ""
      ],
      "execution_count": null,
      "outputs": []
    },
    {
      "cell_type": "code",
      "metadata": {
        "colab": {
          "base_uri": "https://localhost:8080/"
        },
        "id": "oKM0WLpfB-W4",
        "outputId": "49f9ac88-d18a-4605-f735-01db9f3ccffc"
      },
      "source": [
        "#5-Level_Classification\n",
        "#َC configuration\n",
        "\n",
        "X=Data.drop(columns=['G1','G2','G3']).values\n",
        "Y=Data['G3'].values\n",
        "\n",
        "Label=[]\n",
        "for i in range(len(Y)):\n",
        "    if 20>=Y[i]>=16:\n",
        "       Label.append('A')\n",
        "    elif 16>Y[i]>=14:\n",
        "       Label.append('B')\n",
        "    elif 14>Y[i]>=12:\n",
        "       Label.append('C')\n",
        "    elif 12>Y[i]>=10:\n",
        "       Label.append('D')\n",
        "    elif 10>Y[i]>=0:\n",
        "       Label.append('F')        \n",
        "    \n",
        "Label=LabelEncoder().fit_transform(Label).astype(int)\n",
        "\n",
        "param_grid = {'gamma':[2 ** float(-9),2 ** float(-7),2 ** float(-5),2 ** float(-3),2 ** float(-1)]}\n",
        "\n",
        "SVM = SVC(class_weight='balanced',probability=True,kernel='rbf')\n",
        "grid = GridSearchCV(SVM ,param_grid,cv=5)\n",
        "\n",
        "grid.fit(X, Label)\n",
        "\n",
        "\n",
        "SVM=grid.best_estimator_\n",
        "\n",
        "\n",
        "param_grid = {'hidden_layer_sizes':[ 2, 4, 6, 8]}\n",
        "\n",
        "NN = MLPClassifier(solver='lbfgs', max_iter=100)\n",
        "grid = GridSearchCV(NN ,param_grid,cv=5)\n",
        "\n",
        "grid.fit(X, Label)\n",
        "\n",
        "NN=grid.best_estimator_\n",
        "\n",
        "\n",
        "clfs={'NV':GaussianNB(),\n",
        "      'NN': NN,\n",
        "      'SVM':SVM,\n",
        "      'Decision Tree':DecisionTreeClassifier(class_weight='balanced'),\n",
        "      'Random Forest':RandomForestClassifier(class_weight='balanced',n_estimators=500)}\n",
        "\n",
        "classifiers=list(clfs.keys())\n",
        "for clf in classifiers:\n",
        "    scores = cross_val_score(clfs[clf], X, Label, cv=10)\n",
        "    print(f\" {clf}: %0.2f PCC with a standard deviation of %0.2f\" % (scores.mean(), scores.std()))\n",
        "\n",
        "\n"
      ],
      "execution_count": 12,
      "outputs": [
        {
          "output_type": "stream",
          "text": [
            " NV: 0.26 PCC with a standard deviation of 0.04\n",
            " NN: 0.35 PCC with a standard deviation of 0.04\n",
            " SVM: 0.33 PCC with a standard deviation of 0.03\n",
            " Decision Tree: 0.29 PCC with a standard deviation of 0.06\n",
            " Random Forest: 0.33 PCC with a standard deviation of 0.05\n"
          ],
          "name": "stdout"
        }
      ]
    },
    {
      "cell_type": "code",
      "metadata": {
        "id": "hbO4YX8ACh9J"
      },
      "source": [
        ""
      ],
      "execution_count": null,
      "outputs": []
    },
    {
      "cell_type": "code",
      "metadata": {
        "colab": {
          "base_uri": "https://localhost:8080/"
        },
        "id": "mmafarvyCiF9",
        "outputId": "e45128d8-f5c9-41c7-ef3f-e7e3a458679f"
      },
      "source": [
        ""
      ],
      "execution_count": null,
      "outputs": [
        {
          "output_type": "execute_result",
          "data": {
            "text/plain": [
              "[0.001953125, 0.0078125, 0.03125, 0.125, 0.5]"
            ]
          },
          "metadata": {
            "tags": []
          },
          "execution_count": 12
        }
      ]
    },
    {
      "cell_type": "code",
      "metadata": {
        "colab": {
          "base_uri": "https://localhost:8080/"
        },
        "id": "yLN4St1yCiK8",
        "outputId": "88c4738e-346f-43da-b9da-14ec8a42d3e8"
      },
      "source": [
        "#Regression\n",
        "#َA configuration\n",
        "\n",
        "X=Data.drop(columns=['G3']).values\n",
        "Y=Data['G3'].values\n",
        "\n",
        "param_grid = {'gamma':[2 ** float(-9),2 ** float(-7),2 ** float(-5),2 ** float(-3),2 ** float(-1)]}\n",
        "\n",
        "SVM = SVR(kernel='rbf')\n",
        "grid = GridSearchCV(SVM ,param_grid,cv=5)\n",
        "\n",
        "grid.fit(X, Y)\n",
        "\n",
        "\n",
        "SVM=grid.best_estimator_\n",
        "\n",
        "\n",
        "param_grid = {'hidden_layer_sizes':[ 2, 4, 6, 8]}\n",
        "\n",
        "NN = MLPRegressor(solver='lbfgs', max_iter=100)\n",
        "grid = GridSearchCV(NN ,param_grid,cv=5)\n",
        "\n",
        "\n",
        "grid.fit(X, Y)\n",
        "\n",
        "NN=grid.best_estimator_\n",
        "\n",
        "\n",
        "models={'NV':GaussianNB(),\n",
        "      'NN': NN,\n",
        "      'SVM':SVM,\n",
        "      'Decision Tree':DecisionTreeClassifier(),\n",
        "      'Random Forest':RandomForestRegressor(n_estimators=500)}\n",
        "\n",
        "kf = KFold(n_splits=10)\n",
        "\n",
        "regs=list(models.keys())\n",
        "for reg in regs:\n",
        "    result=[]\n",
        "    for train_index, test_index in kf.split(X):\n",
        "        X_train, X_test = X[train_index], X[test_index]\n",
        "        y_train, y_test = Y[train_index], Y[test_index]\n",
        "        regressor=models[reg]\n",
        "        regressor.fit(X_train, y_train)\n",
        "        y_pred=regressor.predict(X_test)\n",
        "        rmse=mean_squared_error(y_test, y_pred, squared=False)\n",
        "        result.append(rmse)\n",
        "    result=np.array(result)\n",
        "    print(f\" {reg}: %0.2f RMSE with a standard deviation of %0.2f\" % (result.mean(), result.std()))\n",
        "\n",
        "\n"
      ],
      "execution_count": 13,
      "outputs": [
        {
          "output_type": "stream",
          "text": [
            " NV: 3.74 RMSE with a standard deviation of 0.56\n",
            " NN: 1.26 RMSE with a standard deviation of 0.46\n",
            " SVM: 1.34 RMSE with a standard deviation of 0.57\n",
            " Decision Tree: 1.96 RMSE with a standard deviation of 0.59\n",
            " Random Forest: 1.30 RMSE with a standard deviation of 0.47\n"
          ],
          "name": "stdout"
        }
      ]
    },
    {
      "cell_type": "code",
      "metadata": {
        "id": "CgMfa7sjZK6h"
      },
      "source": [
        ""
      ],
      "execution_count": null,
      "outputs": []
    },
    {
      "cell_type": "code",
      "metadata": {
        "id": "fnQ19qXmZLIc"
      },
      "source": [
        ""
      ],
      "execution_count": null,
      "outputs": []
    },
    {
      "cell_type": "code",
      "metadata": {
        "colab": {
          "base_uri": "https://localhost:8080/"
        },
        "id": "bYFg84yYCiQj",
        "outputId": "ee5bf4f3-00c7-4277-f0df-e86aea308e32"
      },
      "source": [
        "#Regression\n",
        "#َB configuration\n",
        "\n",
        "X=Data.drop(columns=['G2','G3']).values\n",
        "Y=Data['G3'].values\n",
        "\n",
        "param_grid = {'gamma':[2 ** float(-9),2 ** float(-7),2 ** float(-5),2 ** float(-3),2 ** float(-1)]}\n",
        "\n",
        "SVM = SVR(kernel='rbf')\n",
        "grid = GridSearchCV(SVM ,param_grid,cv=5)\n",
        "\n",
        "grid.fit(X, Y)\n",
        "\n",
        "\n",
        "SVM=grid.best_estimator_\n",
        "\n",
        "\n",
        "param_grid = {'hidden_layer_sizes':[ 2, 4, 6, 8]}\n",
        "\n",
        "NN = MLPRegressor(solver='lbfgs', max_iter=100)\n",
        "grid = GridSearchCV(NN ,param_grid,cv=5)\n",
        "\n",
        "\n",
        "grid.fit(X, Y)\n",
        "\n",
        "NN=grid.best_estimator_\n",
        "\n",
        "\n",
        "models={'NV':GaussianNB(),\n",
        "      'NN': NN,\n",
        "      'SVM':SVM,\n",
        "      'Decision Tree':DecisionTreeClassifier(),\n",
        "      'Random Forest':RandomForestRegressor(n_estimators=500)}\n",
        "\n",
        "kf = KFold(n_splits=10)\n",
        "\n",
        "regs=list(models.keys())\n",
        "for reg in regs:\n",
        "    result=[]\n",
        "    for train_index, test_index in kf.split(X):\n",
        "        X_train, X_test = X[train_index], X[test_index]\n",
        "        y_train, y_test = Y[train_index], Y[test_index]\n",
        "        regressor=models[reg]\n",
        "        regressor.fit(X_train, y_train)\n",
        "        y_pred=regressor.predict(X_test)\n",
        "        rmse=mean_squared_error(y_test, y_pred, squared=False)\n",
        "        result.append(rmse)\n",
        "    result=np.array(result)\n",
        "    print(f\" {reg}: %0.2f RMSE with a standard deviation of %0.2f\" % (result.mean(), result.std()))\n",
        "\n",
        "\n"
      ],
      "execution_count": 14,
      "outputs": [
        {
          "output_type": "stream",
          "text": [
            " NV: 4.54 RMSE with a standard deviation of 0.62\n",
            " NN: 1.83 RMSE with a standard deviation of 0.56\n",
            " SVM: 1.79 RMSE with a standard deviation of 0.65\n",
            " Decision Tree: 2.43 RMSE with a standard deviation of 0.74\n",
            " Random Forest: 1.75 RMSE with a standard deviation of 0.47\n"
          ],
          "name": "stdout"
        }
      ]
    },
    {
      "cell_type": "code",
      "metadata": {
        "id": "JVESxmKifbKY"
      },
      "source": [
        ""
      ],
      "execution_count": null,
      "outputs": []
    },
    {
      "cell_type": "code",
      "metadata": {
        "id": "2B1VNcM_fbTY"
      },
      "source": [
        ""
      ],
      "execution_count": null,
      "outputs": []
    },
    {
      "cell_type": "code",
      "metadata": {
        "colab": {
          "base_uri": "https://localhost:8080/"
        },
        "id": "dk-DqZhHfb4E",
        "outputId": "38a376f8-5fa6-4daa-c967-e690981de6f8"
      },
      "source": [
        "#Regression\n",
        "#َC configuration\n",
        "\n",
        "X=Data.drop(columns=['G1','G2','G3']).values\n",
        "Y=Data['G3'].values\n",
        "\n",
        "param_grid = {'gamma':[2 ** float(-9),2 ** float(-7),2 ** float(-5),2 ** float(-3),2 ** float(-1)]}\n",
        "\n",
        "SVM = SVR(kernel='rbf')\n",
        "grid = GridSearchCV(SVM ,param_grid,cv=5)\n",
        "\n",
        "grid.fit(X, Y)\n",
        "\n",
        "\n",
        "SVM=grid.best_estimator_\n",
        "\n",
        "\n",
        "param_grid = {'hidden_layer_sizes':[ 2, 4, 6, 8]}\n",
        "\n",
        "NN = MLPRegressor(solver='lbfgs', max_iter=100)\n",
        "grid = GridSearchCV(NN ,param_grid,cv=5)\n",
        "\n",
        "\n",
        "grid.fit(X, Y)\n",
        "\n",
        "NN=grid.best_estimator_\n",
        "\n",
        "\n",
        "models={'NV':GaussianNB(),\n",
        "      'NN': NN,\n",
        "      'SVM':SVM,\n",
        "      'Decision Tree':DecisionTreeClassifier(),\n",
        "      'Random Forest':RandomForestRegressor(n_estimators=500)}\n",
        "\n",
        "kf = KFold(n_splits=10)\n",
        "\n",
        "regs=list(models.keys())\n",
        "for reg in regs:\n",
        "    result=[]\n",
        "    for train_index, test_index in kf.split(X):\n",
        "        X_train, X_test = X[train_index], X[test_index]\n",
        "        y_train, y_test = Y[train_index], Y[test_index]\n",
        "        regressor=models[reg]\n",
        "        regressor.fit(X_train, y_train)\n",
        "        y_pred=regressor.predict(X_test)\n",
        "        rmse=mean_squared_error(y_test, y_pred, squared=False)\n",
        "        result.append(rmse)\n",
        "    result=np.array(result)\n",
        "    print(f\" {reg}: %0.2f RMSE with a standard deviation of %0.2f\" % (result.mean(), result.std()))\n",
        "\n",
        "\n"
      ],
      "execution_count": 15,
      "outputs": [
        {
          "output_type": "stream",
          "text": [
            " NV: 5.30 RMSE with a standard deviation of 0.92\n",
            " NN: 2.77 RMSE with a standard deviation of 0.82\n",
            " SVM: 2.80 RMSE with a standard deviation of 0.81\n",
            " Decision Tree: 3.84 RMSE with a standard deviation of 0.77\n",
            " Random Forest: 2.72 RMSE with a standard deviation of 0.78\n"
          ],
          "name": "stdout"
        }
      ]
    },
    {
      "cell_type": "code",
      "metadata": {
        "id": "18Rw_hgRf61N"
      },
      "source": [
        ""
      ],
      "execution_count": null,
      "outputs": []
    },
    {
      "cell_type": "code",
      "metadata": {
        "id": "MW61t_Ejf65o"
      },
      "source": [
        ""
      ],
      "execution_count": null,
      "outputs": []
    }
  ]
}